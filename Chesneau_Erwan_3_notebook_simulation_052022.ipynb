{
 "cells": [
  {
   "cell_type": "markdown",
   "id": "2b5fe9ca",
   "metadata": {},
   "source": [
    "# Projet 4 : Segmentez des clients d'un site de e-commerce\n",
    "## Notebook de définitions du délai de mise à jour\n",
    "Ce notebook sert à définir le delai entre deux mises à jour de la segmentation\n",
    "\n",
    "\n",
    "### Contexte et objectifs\n",
    "L'entreprise de e-commerce Olist souhaite comprendre les différents types de clients qu'elle possède. Elle souhaite donc ségmenter sa clientèle afin de pouvoir mieux communiquer en fonction du type de client. Pour cela elle souhaite classer les clients en fonction de leurs commandes passées ainsi que la satisfaction. "
   ]
  },
  {
   "cell_type": "markdown",
   "id": "534566b0",
   "metadata": {},
   "source": [
    "### Modules Python"
   ]
  },
  {
   "cell_type": "code",
   "execution_count": 1,
   "id": "868a876d",
   "metadata": {},
   "outputs": [],
   "source": [
    "import pandas as pd\n",
    "import numpy as np\n",
    "import matplotlib.pyplot as plt\n",
    "from datetime import timedelta\n",
    "from sklearn import preprocessing, metrics, cluster, decomposition\n",
    "from sklearn.cluster import AgglomerativeClustering, KMeans, DBSCAN\n",
    "import datetime"
   ]
  },
  {
   "cell_type": "markdown",
   "id": "a1eda202",
   "metadata": {},
   "source": [
    "### Chargement du dataset\n"
   ]
  },
  {
   "cell_type": "code",
   "execution_count": 2,
   "id": "f96a8e7c",
   "metadata": {},
   "outputs": [
    {
     "name": "stdout",
     "output_type": "stream",
     "text": [
      "Nombre de lignes : 111708\n",
      "Nombre de variables : 14\n",
      "Type des variables :\n",
      "customer_id                         object\n",
      "customer_unique_id                  object\n",
      "customer_zip_code_prefix             int64\n",
      "customer_city                       object\n",
      "customer_state                      object\n",
      "geolocation_lat                    float64\n",
      "geolocation_lng                    float64\n",
      "order_id                            object\n",
      "order_purchase_timestamp    datetime64[ns]\n",
      "review_score                       float64\n",
      "order_item_id                      float64\n",
      "product_id                          object\n",
      "price                              float64\n",
      "product_category_name               object\n",
      "dtype: object\n"
     ]
    }
   ],
   "source": [
    "DATA = pd.read_csv(\"database_merge_cleaned.csv\",sep=\",\", skipinitialspace=True, low_memory=False,\\\n",
    "                  parse_dates=[8], dayfirst=False)\n",
    "print(f\"Nombre de lignes : {len(DATA)}\")\n",
    "print(f\"Nombre de variables : {len(DATA.columns)}\")\n",
    "print(\"Type des variables :\")\n",
    "print(DATA.dtypes)"
   ]
  },
  {
   "cell_type": "markdown",
   "id": "4c944283",
   "metadata": {},
   "source": [
    "#### suppression des lignes non renseignées"
   ]
  },
  {
   "cell_type": "code",
   "execution_count": 3,
   "id": "644eca53",
   "metadata": {},
   "outputs": [],
   "source": [
    "for o_id in DATA[DATA['review_score'].isna()][\"order_id\"].unique() :\n",
    "    DATA = DATA.drop(DATA.loc[DATA[\"order_id\"]==o_id].index, inplace=False)"
   ]
  },
  {
   "cell_type": "code",
   "execution_count": 4,
   "id": "a73f4969",
   "metadata": {},
   "outputs": [],
   "source": [
    "for o_id in DATA[DATA['order_item_id'].isna()]['order_id'].unique() :\n",
    "    DATA = DATA.drop(DATA.loc[DATA[\"order_id\"]==o_id].index, inplace=False)"
   ]
  },
  {
   "cell_type": "code",
   "execution_count": 5,
   "id": "bb438879",
   "metadata": {},
   "outputs": [
    {
     "name": "stdout",
     "output_type": "stream",
     "text": [
      "customer_id : 0\n",
      "customer_unique_id : 0\n",
      "customer_zip_code_prefix : 0\n",
      "customer_city : 0\n",
      "customer_state : 0\n",
      "geolocation_lat : 301\n",
      "geolocation_lng : 301\n",
      "order_id : 0\n",
      "order_purchase_timestamp : 0\n",
      "review_score : 0\n",
      "order_item_id : 0\n",
      "product_id : 0\n",
      "price : 0\n",
      "product_category_name : 1589\n"
     ]
    }
   ],
   "source": [
    "for col in DATA.columns :\n",
    "    print(f\"{col} : {DATA[col].isna().sum()}\")"
   ]
  },
  {
   "cell_type": "markdown",
   "id": "8d321052",
   "metadata": {},
   "source": [
    "### Base de données initiale\n",
    "La base de donnée initiale sera composée de toutes les données depuis la création de la base de données jusqu'à une date choisie arbitrairement.  \n",
    "Le delai de mise à jour sera défini en ajoutant à cette période initiale des périodes de plus en plus longue pour déterminer le délai maximal entre deux mises à jour. "
   ]
  },
  {
   "cell_type": "code",
   "execution_count": 6,
   "id": "2ea146af",
   "metadata": {},
   "outputs": [
    {
     "name": "stdout",
     "output_type": "stream",
     "text": [
      "Premier jour de la BDD : 2016-09-04\n",
      "Dernier jour de la BDD : 2018-09-03\n"
     ]
    }
   ],
   "source": [
    "print(f\"Premier jour de la BDD : {DATA['order_purchase_timestamp'].min().date()}\")\n",
    "print(f\"Dernier jour de la BDD : {DATA['order_purchase_timestamp'].max().date()}\")"
   ]
  },
  {
   "cell_type": "markdown",
   "id": "72efc774",
   "metadata": {},
   "source": [
    "Il a été décidé de prendre une période de 3 mois à l'origine de la base de donnée afin d'étudier le temps maximum avant de procéder à une mise à jour de la ségmentation."
   ]
  },
  {
   "cell_type": "code",
   "execution_count": 7,
   "id": "df0ebf45",
   "metadata": {},
   "outputs": [],
   "source": [
    "def database_period(df, start=None, period=30) :\n",
    "    \"\"\"\n",
    "    function to extract a period in the olist database\n",
    "    t0 = start \n",
    "    tf = start+period (days)\n",
    "    parameters : df : input DataFrame\n",
    "                 start : first day\n",
    "                 period : ndays\n",
    "    returns : odf : filtered dataframe\n",
    "    \"\"\"\n",
    "    #first_day = df['order_purchase_timestamp'].min().date\n",
    "    date = df['order_purchase_timestamp'].apply(lambda x :x.date())\n",
    "    if start is None :\n",
    "        start = df['order_purchase_timestamp'].min().date()\n",
    "    end = start + timedelta(days=period)\n",
    "    odf = df[(date >= start) & (date <= end)]\n",
    "    return odf"
   ]
  },
  {
   "cell_type": "code",
   "execution_count": 8,
   "id": "748c533a",
   "metadata": {},
   "outputs": [],
   "source": [
    "def transform_data(df):\n",
    "    aggr = {\n",
    "        'order_id' : lambda x : len(x.unique()), #Nombre de commande sur la période\n",
    "        'days_orders' : lambda x : x.min(), #nombre de jour depuis la dernière commande\n",
    "        'price' : ['sum', 'mean'],\n",
    "        'product_id' : lambda x : len(x) #Nombre d'articles commandé\n",
    "    }\n",
    "    aggr_2 = {\n",
    "        'price' : 'sum', #montant dépensé par commande\n",
    "        'product_id': lambda x : len(x), #Nombre de produits par commande\n",
    "        'review_score' : 'mean' #note par commande\n",
    "    }\n",
    "    aggr_3 = {\n",
    "        'price' : 'mean', #prix moyen dépensé par commande\n",
    "        'product_id': 'mean', #Nombre de produit moyen commandé\n",
    "        'review_score' : 'mean' #Satisfaction moyenne\n",
    "    }\n",
    "    END = df['order_purchase_timestamp'].max().date()\n",
    "    #df['days_orders'] = df[\"order_purchase_timestamp\"].apply(lambda x : (END-x.date()).days)\n",
    "    days_order = df[\"order_purchase_timestamp\"].apply(lambda x : (END-x.date()).days).tolist()\n",
    "    #print(days_order)\n",
    "    df = pd.concat([df, pd.Series(data=days_order, index=df.index,name='days_orders')], axis=1)\n",
    "    odf = df.groupby(\"customer_unique_id\").agg(aggr)\n",
    "    odf.rename(columns={\"order_id\": \"n_orders\"}, inplace=True)\n",
    "    col = [\"n_orders\", \"n_days_last_order\", 'total_price', 'product_mean_price', \"n_products\"]\n",
    "    odf.columns = col\n",
    "    data_tmp = df.groupby(['customer_unique_id', 'order_id']).agg(aggr_2)\n",
    "    data_tmp = data_tmp.groupby(\"customer_unique_id\").agg(aggr_3)\n",
    "    data_tmp.columns = ['mean_order_price', 'mean_n_products', 'mean_review_score']\n",
    "    odf = pd.concat([odf, data_tmp], axis=1)\n",
    "    #if scaler is None :\n",
    "    return odf\n",
    "    #else :\n",
    "    #    return scaler.transform(odf)"
   ]
  },
  {
   "cell_type": "code",
   "execution_count": 9,
   "id": "f5c7fa94",
   "metadata": {},
   "outputs": [
    {
     "name": "stdout",
     "output_type": "stream",
     "text": [
      "Premier jour de la BDD : 2016-09-04\n",
      "Dernier jour de la BDD : 2016-10-10\n"
     ]
    }
   ],
   "source": [
    "tinit = 90\n",
    "data_init = database_period(DATA, period=tinit)\n",
    "print(f\"Premier jour de la BDD : {data_init['order_purchase_timestamp'].min().date()}\")\n",
    "print(f\"Dernier jour de la BDD : {data_init['order_purchase_timestamp'].max().date()}\")"
   ]
  },
  {
   "cell_type": "markdown",
   "id": "348ce3bc",
   "metadata": {},
   "source": [
    "On remarque qu'aucune commande n'est enregistrée dans la base de données entre mi octobre et le mois de décembre."
   ]
  },
  {
   "cell_type": "code",
   "execution_count": 10,
   "id": "0aef7c01",
   "metadata": {
    "scrolled": true
   },
   "outputs": [
    {
     "data": {
      "text/html": [
       "<div>\n",
       "<style scoped>\n",
       "    .dataframe tbody tr th:only-of-type {\n",
       "        vertical-align: middle;\n",
       "    }\n",
       "\n",
       "    .dataframe tbody tr th {\n",
       "        vertical-align: top;\n",
       "    }\n",
       "\n",
       "    .dataframe thead th {\n",
       "        text-align: right;\n",
       "    }\n",
       "</style>\n",
       "<table border=\"1\" class=\"dataframe\">\n",
       "  <thead>\n",
       "    <tr style=\"text-align: right;\">\n",
       "      <th></th>\n",
       "      <th>n_orders</th>\n",
       "      <th>n_days_last_order</th>\n",
       "      <th>total_price</th>\n",
       "      <th>product_mean_price</th>\n",
       "      <th>n_products</th>\n",
       "      <th>mean_order_price</th>\n",
       "      <th>mean_n_products</th>\n",
       "      <th>mean_review_score</th>\n",
       "    </tr>\n",
       "    <tr>\n",
       "      <th>customer_unique_id</th>\n",
       "      <th></th>\n",
       "      <th></th>\n",
       "      <th></th>\n",
       "      <th></th>\n",
       "      <th></th>\n",
       "      <th></th>\n",
       "      <th></th>\n",
       "      <th></th>\n",
       "    </tr>\n",
       "  </thead>\n",
       "  <tbody>\n",
       "    <tr>\n",
       "      <th>0032c76b20340da25249092a268ce66c</th>\n",
       "      <td>1</td>\n",
       "      <td>4</td>\n",
       "      <td>128.90</td>\n",
       "      <td>128.90</td>\n",
       "      <td>1</td>\n",
       "      <td>128.90</td>\n",
       "      <td>1.0</td>\n",
       "      <td>4.0</td>\n",
       "    </tr>\n",
       "    <tr>\n",
       "      <th>01f156677184504063bd19739f924af1</th>\n",
       "      <td>1</td>\n",
       "      <td>0</td>\n",
       "      <td>739.98</td>\n",
       "      <td>739.98</td>\n",
       "      <td>1</td>\n",
       "      <td>739.98</td>\n",
       "      <td>1.0</td>\n",
       "      <td>5.0</td>\n",
       "    </tr>\n",
       "    <tr>\n",
       "      <th>0313291a6f4f16df04dcf819d88c38ef</th>\n",
       "      <td>1</td>\n",
       "      <td>1</td>\n",
       "      <td>95.00</td>\n",
       "      <td>95.00</td>\n",
       "      <td>1</td>\n",
       "      <td>95.00</td>\n",
       "      <td>1.0</td>\n",
       "      <td>1.0</td>\n",
       "    </tr>\n",
       "    <tr>\n",
       "      <th>0636d30c77f0f9cfad81f1c9b58c791f</th>\n",
       "      <td>1</td>\n",
       "      <td>2</td>\n",
       "      <td>949.99</td>\n",
       "      <td>949.99</td>\n",
       "      <td>1</td>\n",
       "      <td>949.99</td>\n",
       "      <td>1.0</td>\n",
       "      <td>4.0</td>\n",
       "    </tr>\n",
       "    <tr>\n",
       "      <th>0659f2d6cabae94afd4d009c6d0e07dc</th>\n",
       "      <td>1</td>\n",
       "      <td>1</td>\n",
       "      <td>390.00</td>\n",
       "      <td>195.00</td>\n",
       "      <td>2</td>\n",
       "      <td>390.00</td>\n",
       "      <td>2.0</td>\n",
       "      <td>1.0</td>\n",
       "    </tr>\n",
       "  </tbody>\n",
       "</table>\n",
       "</div>"
      ],
      "text/plain": [
       "                                  n_orders  n_days_last_order  total_price  \\\n",
       "customer_unique_id                                                           \n",
       "0032c76b20340da25249092a268ce66c         1                  4       128.90   \n",
       "01f156677184504063bd19739f924af1         1                  0       739.98   \n",
       "0313291a6f4f16df04dcf819d88c38ef         1                  1        95.00   \n",
       "0636d30c77f0f9cfad81f1c9b58c791f         1                  2       949.99   \n",
       "0659f2d6cabae94afd4d009c6d0e07dc         1                  1       390.00   \n",
       "\n",
       "                                  product_mean_price  n_products  \\\n",
       "customer_unique_id                                                 \n",
       "0032c76b20340da25249092a268ce66c              128.90           1   \n",
       "01f156677184504063bd19739f924af1              739.98           1   \n",
       "0313291a6f4f16df04dcf819d88c38ef               95.00           1   \n",
       "0636d30c77f0f9cfad81f1c9b58c791f              949.99           1   \n",
       "0659f2d6cabae94afd4d009c6d0e07dc              195.00           2   \n",
       "\n",
       "                                  mean_order_price  mean_n_products  \\\n",
       "customer_unique_id                                                    \n",
       "0032c76b20340da25249092a268ce66c            128.90              1.0   \n",
       "01f156677184504063bd19739f924af1            739.98              1.0   \n",
       "0313291a6f4f16df04dcf819d88c38ef             95.00              1.0   \n",
       "0636d30c77f0f9cfad81f1c9b58c791f            949.99              1.0   \n",
       "0659f2d6cabae94afd4d009c6d0e07dc            390.00              2.0   \n",
       "\n",
       "                                  mean_review_score  \n",
       "customer_unique_id                                   \n",
       "0032c76b20340da25249092a268ce66c                4.0  \n",
       "01f156677184504063bd19739f924af1                5.0  \n",
       "0313291a6f4f16df04dcf819d88c38ef                1.0  \n",
       "0636d30c77f0f9cfad81f1c9b58c791f                4.0  \n",
       "0659f2d6cabae94afd4d009c6d0e07dc                1.0  "
      ]
     },
     "execution_count": 10,
     "metadata": {},
     "output_type": "execute_result"
    }
   ],
   "source": [
    "data_init = transform_data(data_init)\n",
    "cust_init = data_init.index\n",
    "data_init.head()"
   ]
  },
  {
   "cell_type": "markdown",
   "id": "365aa6b3",
   "metadata": {},
   "source": [
    "#### Normalisation des données"
   ]
  },
  {
   "cell_type": "code",
   "execution_count": 11,
   "id": "6170be33",
   "metadata": {},
   "outputs": [],
   "source": [
    "scaler_init = preprocessing.StandardScaler().fit(data_init)\n",
    "data_init_norm = scaler_init.transform(data_init)"
   ]
  },
  {
   "cell_type": "markdown",
   "id": "afa8b870",
   "metadata": {},
   "source": [
    "### classification initiale\n",
    "Puisque la méthode AgglomerativeClustering ne permet pas de gérer la totalité de la BDD, on utilise la méthode KMeans avec 3 clusters"
   ]
  },
  {
   "cell_type": "code",
   "execution_count": 12,
   "id": "8065ebac",
   "metadata": {},
   "outputs": [],
   "source": [
    "cls_init = KMeans(n_clusters=3, n_init=50, init='k-means++',random_state=42)\n",
    "cls_init.fit(data_init_norm)\n",
    "pred_init = pd.Series(index=cust_init, data=cls_init.predict(data_init_norm))"
   ]
  },
  {
   "cell_type": "markdown",
   "id": "b676ea7b",
   "metadata": {},
   "source": [
    "### Mesure de la similitude sur différentes périodes\n",
    "#### recherche large\n",
    "les périodes testées seront : 1, 7, 14, 30, 60, 90, 120, 180, 360  \n",
    "Pour caractériser la similitude, les données de la nouvelle période seront normalisées avec le scaler initial et classifier avec le classifieur initial. Ensuite, les données seront à nouveau scaler et un nouveau classifieur sera créé. On calculera ensuite l'indice de rang ajuster pour comparer les deux ségmentations."
   ]
  },
  {
   "cell_type": "code",
   "execution_count": 13,
   "id": "2088a0f0",
   "metadata": {
    "scrolled": true
   },
   "outputs": [
    {
     "data": {
      "image/png": "[encoded data removed]",
      "text/plain": [
       "<Figure size 432x288 with 1 Axes>"
      ]
     },
     "metadata": {
      "needs_background": "light"
     },
     "output_type": "display_data"
    }
   ],
   "source": [
    "ARI = []\n",
    "#periods = range(30, 160, 30)\n",
    "periods = [1, 7, 14, 30, 60, 90, 120, 180, 360]\n",
    "for days in periods:\n",
    "    data_step = database_period(DATA, period=tinit+days)\n",
    "    data_step = transform_data(data_step)\n",
    "    #=======================================\n",
    "    # classification avec le même classifieur\n",
    "    #=======================================\n",
    "    data_step_oldnorm = scaler_init.transform(data_step)\n",
    "    pred_step_no_update = cls_init.predict(data_step_oldnorm)\n",
    "    #=======================================\n",
    "    # classification avec un classifieur mis à jour\n",
    "    #=======================================\n",
    "    scaler_step = preprocessing.StandardScaler().fit(data_step)\n",
    "    data_step_norm = scaler_step.transform(data_step)\n",
    "    cls_step = KMeans(n_clusters=3, n_init=50, init='k-means++', random_state=42)\n",
    "    cls_step.fit(data_step_norm)\n",
    "    pred_step_update = cls_step.predict(data_step_norm)\n",
    "    ARI.append(metrics.adjusted_rand_score(pred_step_no_update, pred_step_update))\n",
    "fig, ax = plt.subplots()\n",
    "ax.plot(periods,ARI, linestyle=\"--\", marker=\"o\")\n",
    "ax.set_xlabel('period (days)')\n",
    "ax.set_ylabel('ARI')\n",
    "plt.show()"
   ]
  },
  {
   "cell_type": "markdown",
   "id": "e4626b97",
   "metadata": {},
   "source": [
    "Le nombre de changement dans la classification devient important à partir d'environ 2 ou 3 mois.  \n",
    "Cela nous donne une première idée du délai optimal"
   ]
  },
  {
   "cell_type": "code",
   "execution_count": 14,
   "id": "fc5180cb",
   "metadata": {
    "scrolled": true
   },
   "outputs": [
    {
     "data": {
      "image/png": "[encoded data removed]",
      "text/plain": [
       "<Figure size 432x288 with 1 Axes>"
      ]
     },
     "metadata": {
      "needs_background": "light"
     },
     "output_type": "display_data"
    }
   ],
   "source": [
    "ARI = []\n",
    "periods = range(15, 160, 15)\n",
    "for days in periods:\n",
    "    data_step = database_period(DATA, period=tinit+days)\n",
    "    data_step = transform_data(data_step)\n",
    "    #=======================================\n",
    "    # classification avec le même classifieur\n",
    "    #=======================================\n",
    "    data_step_oldnorm = scaler_init.transform(data_step)\n",
    "    pred_step_no_update = cls_init.predict(data_step_oldnorm)\n",
    "    #=======================================\n",
    "    # classification avec un classifieur mis à jour\n",
    "    #=======================================\n",
    "    scaler_step = preprocessing.StandardScaler().fit(data_step)\n",
    "    data_step_norm = scaler_step.transform(data_step)\n",
    "    cls_step = KMeans(n_clusters=3, n_init=50, init='k-means++', random_state=42)\n",
    "    cls_step.fit(data_step_norm)\n",
    "    pred_step_update = cls_step.predict(data_step_norm)\n",
    "    ARI.append(metrics.adjusted_rand_score(pred_step_no_update, pred_step_update))\n",
    "fig, ax = plt.subplots()\n",
    "ax.plot(periods,ARI, linestyle=\"--\", marker=\"o\")\n",
    "ax.set_xlabel('period (days)')\n",
    "ax.set_ylabel('ARI')\n",
    "plt.show()"
   ]
  },
  {
   "cell_type": "markdown",
   "id": "4c789657",
   "metadata": {},
   "source": [
    "En utilisant un pas plus court et constant, l'analyse confirme une mise à jour nécessaire environ tous les mois."
   ]
  },
  {
   "cell_type": "markdown",
   "id": "fac68583",
   "metadata": {},
   "source": [
    "#### Décalage dans le temps\n",
    "Pour prendre en compte les données les plus récente, on décale le début de l'analyse à une date plus proche de la date de la dernière commande.  \n",
    "Puisque la base de données s'arrête en septembre 2018, on décale le début de l'analyse au 1er février 2018"
   ]
  },
  {
   "cell_type": "code",
   "execution_count": 15,
   "id": "74724dfb",
   "metadata": {},
   "outputs": [
    {
     "name": "stdout",
     "output_type": "stream",
     "text": [
      "Premier jour de la BDD : 2018-02-01\n",
      "Dernier jour de la BDD : 2018-05-02\n"
     ]
    },
    {
     "data": {
      "text/plain": [
       "KMeans(n_clusters=3, n_init=50, random_state=42)"
      ]
     },
     "execution_count": 15,
     "metadata": {},
     "output_type": "execute_result"
    }
   ],
   "source": [
    "tinit = 90\n",
    "dstart = dstart = datetime.datetime(2018, 2, 1).date()\n",
    "data_init = database_period(DATA, start=dstart, period=tinit)\n",
    "print(f\"Premier jour de la BDD : {data_init['order_purchase_timestamp'].min().date()}\")\n",
    "print(f\"Dernier jour de la BDD : {data_init['order_purchase_timestamp'].max().date()}\")\n",
    "data_init = transform_data(data_init)\n",
    "scaler_init = preprocessing.StandardScaler().fit(data_init)\n",
    "data_init_norm = scaler_init.transform(data_init)\n",
    "cls_init = KMeans(n_clusters=3, n_init=50, init='k-means++',random_state=42)\n",
    "cls_init.fit(data_init_norm)"
   ]
  },
  {
   "cell_type": "code",
   "execution_count": 16,
   "id": "1cc024b1",
   "metadata": {
    "scrolled": true
   },
   "outputs": [
    {
     "data": {
      "image/png": "[encoded data removed]",
      "text/plain": [
       "<Figure size 432x288 with 1 Axes>"
      ]
     },
     "metadata": {
      "needs_background": "light"
     },
     "output_type": "display_data"
    }
   ],
   "source": [
    "ARI = []\n",
    "periods = range(15, 160, 15)\n",
    "for days in periods:\n",
    "    data_step = database_period(DATA, start=dstart, period=tinit+days)\n",
    "    data_step = transform_data(data_step)\n",
    "    #=======================================\n",
    "    # classification avec le même classifieur\n",
    "    #=======================================\n",
    "    data_step_oldnorm = scaler_init.transform(data_step)\n",
    "    pred_step_no_update = cls_init.predict(data_step_oldnorm)\n",
    "    #=======================================\n",
    "    # classification avec un classifieur mis à jour\n",
    "    #=======================================\n",
    "    scaler_step = preprocessing.StandardScaler().fit(data_step)\n",
    "    data_step_norm = scaler_step.transform(data_step)\n",
    "    cls_step = KMeans(n_clusters=3, n_init=50, init='k-means++', random_state=42)\n",
    "    cls_step.fit(data_step_norm)\n",
    "    pred_step_update = cls_step.predict(data_step_norm)\n",
    "    ARI.append(metrics.adjusted_rand_score(pred_step_no_update, pred_step_update))\n",
    "fig, ax = plt.subplots()\n",
    "ax.plot(periods,ARI, linestyle=\"--\", marker=\"o\")\n",
    "ax.set_xlabel('period (days)')\n",
    "ax.set_ylabel('ARI')\n",
    "plt.show()"
   ]
  },
  {
   "cell_type": "markdown",
   "id": "71b9cede",
   "metadata": {},
   "source": [
    "En utilisant des données plus récente, on peut affirmer qu'une mise à jours après 3 mois est suffisante pour assurer une segmentation correcte."
   ]
  },
  {
   "cell_type": "markdown",
   "id": "040b8f5e",
   "metadata": {},
   "source": [
    "#### Prise en compte d'une longue période comme base de données initiale"
   ]
  },
  {
   "cell_type": "code",
   "execution_count": 17,
   "id": "5cb4dc53",
   "metadata": {},
   "outputs": [
    {
     "name": "stdout",
     "output_type": "stream",
     "text": [
      "Premier jour de la BDD : 2016-09-04\n",
      "Dernier jour de la BDD : 2017-09-04\n"
     ]
    },
    {
     "data": {
      "text/plain": [
       "KMeans(n_clusters=3, n_init=50, random_state=42)"
      ]
     },
     "execution_count": 17,
     "metadata": {},
     "output_type": "execute_result"
    }
   ],
   "source": [
    "tinit = 365\n",
    "data_init = database_period(DATA, period=tinit)\n",
    "print(f\"Premier jour de la BDD : {data_init['order_purchase_timestamp'].min().date()}\")\n",
    "print(f\"Dernier jour de la BDD : {data_init['order_purchase_timestamp'].max().date()}\")\n",
    "data_init = transform_data(data_init)\n",
    "scaler_init = preprocessing.StandardScaler().fit(data_init)\n",
    "data_init_norm = scaler_init.transform(data_init)\n",
    "cls_init = KMeans(n_clusters=3, n_init=50, init='k-means++',random_state=42)\n",
    "cls_init.fit(data_init_norm)"
   ]
  },
  {
   "cell_type": "code",
   "execution_count": 20,
   "id": "17883429",
   "metadata": {
    "scrolled": false
   },
   "outputs": [
    {
     "data": {
      "image/png": "[encoded data removed]",
      "text/plain": [
       "<Figure size 432x288 with 1 Axes>"
      ]
     },
     "metadata": {
      "needs_background": "light"
     },
     "output_type": "display_data"
    }
   ],
   "source": [
    "ARI = []\n",
    "periods = range(30, 200, 30)\n",
    "for days in periods:\n",
    "    data_step = database_period(DATA, period=tinit+days)\n",
    "    data_step = transform_data(data_step)\n",
    "    #=======================================\n",
    "    # classification avec le même classifieur\n",
    "    #=======================================\n",
    "    data_step_oldnorm = scaler_init.transform(data_step)\n",
    "    pred_step_no_update = cls_init.predict(data_step_oldnorm)\n",
    "    #=======================================\n",
    "    # classification avec un classifieur mis à jour\n",
    "    #=======================================\n",
    "    scaler_step = preprocessing.StandardScaler().fit(data_step)\n",
    "    data_step_norm = scaler_step.transform(data_step)\n",
    "    cls_step = KMeans(n_clusters=3, n_init=50, init='k-means++', random_state=42)\n",
    "    cls_step.fit(data_step_norm)\n",
    "    pred_step_update = cls_step.predict(data_step_norm)\n",
    "    ARI.append(metrics.adjusted_rand_score(pred_step_no_update, pred_step_update))\n",
    "fig, ax = plt.subplots()\n",
    "ax.plot(periods,ARI, linestyle=\"--\", marker=\"o\")\n",
    "ax.set_xlabel('period (days)')\n",
    "ax.set_ylabel('ARI')\n",
    "plt.show()"
   ]
  },
  {
   "cell_type": "markdown",
   "id": "fc8e1948",
   "metadata": {},
   "source": [
    "L'utilisation d'une période initiale plus longue permet de stabiliser sur une longue période la ségmentation."
   ]
  }
 ],
 "metadata": {
  "kernelspec": {
   "display_name": "Python 3 (ipykernel)",
   "language": "python",
   "name": "python3"
  },
  "language_info": {
   "codemirror_mode": {
    "name": "ipython",
    "version": 3
   },
   "file_extension": ".py",
   "mimetype": "text/x-python",
   "name": "python",
   "nbconvert_exporter": "python",
   "pygments_lexer": "ipython3",
   "version": "3.9.7"
  }
 },
 "nbformat": 4,
 "nbformat_minor": 5
}
